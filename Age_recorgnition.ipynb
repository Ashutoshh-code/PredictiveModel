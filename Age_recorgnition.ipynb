{
  "cells": [
    {
      "cell_type": "code",
      "source": [
        "import kagglehub\n",
        "path = kagglehub.dataset_download(\"jangedoo/utkface-new\")\n",
        "print(\"Path to dataset files:\", path)"
      ],
      "metadata": {
        "colab": {
          "base_uri": "https://localhost:8080/"
        },
        "id": "KZTyrATHsMPA",
        "outputId": "b36217fb-c812-481b-b79a-dd511e6b72ec"
      },
      "execution_count": 1,
      "outputs": [
        {
          "output_type": "stream",
          "name": "stdout",
          "text": [
            "Path to dataset files: /kaggle/input/utkface-new\n"
          ]
        }
      ]
    },
    {
      "cell_type": "code",
      "source": [
        "import os\n",
        "UTKFace = os.path.join(path, \"UTKFace\")"
      ],
      "metadata": {
        "id": "-iLmtf2ftAju"
      },
      "execution_count": 2,
      "outputs": []
    },
    {
      "cell_type": "code",
      "source": [
        "!pip install opencv-python"
      ],
      "metadata": {
        "colab": {
          "base_uri": "https://localhost:8080/"
        },
        "id": "ODIQbtLlwqM9",
        "outputId": "c7ce3ed7-3943-4515-c7b1-58c999d64bd5"
      },
      "execution_count": 6,
      "outputs": [
        {
          "output_type": "stream",
          "name": "stdout",
          "text": [
            "Collecting opencv-python\n",
            "  Downloading opencv_python-4.11.0.86-cp37-abi3-manylinux_2_17_x86_64.manylinux2014_x86_64.whl.metadata (20 kB)\n",
            "Requirement already satisfied: numpy>=1.21.2 in /usr/local/lib/python3.11/dist-packages (from opencv-python) (2.0.2)\n",
            "Downloading opencv_python-4.11.0.86-cp37-abi3-manylinux_2_17_x86_64.manylinux2014_x86_64.whl (63.0 MB)\n",
            "\u001b[2K   \u001b[90m━━━━━━━━━━━━━━━━━━━━━━━━━━━━━━━━━━━━━━━━\u001b[0m \u001b[32m63.0/63.0 MB\u001b[0m \u001b[31m20.4 MB/s\u001b[0m eta \u001b[36m0:00:00\u001b[0m\n",
            "\u001b[?25hInstalling collected packages: opencv-python\n",
            "Successfully installed opencv-python-4.11.0.86\n"
          ]
        }
      ]
    },
    {
      "cell_type": "code",
      "source": [
        "import cv2\n",
        "import numpy as np\n",
        "import matplotlib.pyplot as plt\n",
        "from tqdm import tqdm"
      ],
      "metadata": {
        "id": "8DBlu4BLuFNY"
      },
      "execution_count": 7,
      "outputs": []
    },
    {
      "cell_type": "code",
      "source": [
        "image_files = os.listdir(UTKFace)"
      ],
      "metadata": {
        "id": "ohGHEcFqu76h"
      },
      "execution_count": 21,
      "outputs": []
    },
    {
      "cell_type": "code",
      "source": [
        "IMG_SIZE = 224\n",
        "images = []\n",
        "ages = []\n",
        "genders = []\n",
        "\n",
        "for file in tqdm(image_files):\n",
        "    try:\n",
        "        age, gender = map(int, file.split('_')[:2])\n",
        "        img_path = os.path.join(UTKFace, file)\n",
        "\n",
        "        img = cv2.imread(img_path)\n",
        "        if img is None:\n",
        "            continue\n",
        "        img = cv2.resize(img, (IMG_SIZE, IMG_SIZE))\n",
        "        img = img / 255.0\n",
        "\n",
        "        images.append(img)\n",
        "        ages.append(age)\n",
        "        genders.append(gender)\n",
        "\n",
        "    except Exception as e:\n",
        "        print(f\"Skipping {file}: {e}\")\n"
      ],
      "metadata": {
        "colab": {
          "base_uri": "https://localhost:8080/"
        },
        "id": "gV5xLk6qu0kU",
        "outputId": "f200f88e-5bc2-44b1-8ad6-24712f51682e"
      },
      "execution_count": 9,
      "outputs": [
        {
          "output_type": "stream",
          "name": "stderr",
          "text": [
            "100%|██████████| 23708/23708 [04:57<00:00, 79.73it/s]\n"
          ]
        }
      ]
    },
    {
      "cell_type": "code",
      "source": [
        "path = kagglehub.dataset_download(\"alessiocorrado99/animals10\")\n",
        "AnimalFace = os.path.join(path, \"raw-img\")"
      ],
      "metadata": {
        "id": "RZPGMqHd0Hra"
      },
      "execution_count": 13,
      "outputs": []
    },
    {
      "cell_type": "code",
      "source": [
        "AnimalFace"
      ],
      "metadata": {
        "colab": {
          "base_uri": "https://localhost:8080/",
          "height": 35
        },
        "id": "p_hoYQhY04aK",
        "outputId": "d38ce1c4-b765-430c-cb0d-0f1ec01ff630"
      },
      "execution_count": 15,
      "outputs": [
        {
          "output_type": "execute_result",
          "data": {
            "text/plain": [
              "'/kaggle/input/animals10/raw-img'"
            ],
            "application/vnd.google.colaboratory.intrinsic+json": {
              "type": "string"
            }
          },
          "metadata": {},
          "execution_count": 15
        }
      ]
    },
    {
      "cell_type": "code",
      "source": [
        "animal_image_files = os.listdir(AnimalFace)"
      ],
      "metadata": {
        "id": "LaUh2Jum0_kJ"
      },
      "execution_count": 17,
      "outputs": []
    },
    {
      "cell_type": "code",
      "source": [
        "animal_images = []\n",
        "animal_labels = []\n",
        "for label in animal_image_files:\n",
        "  label_path = os.path.join(AnimalFace, label)\n",
        "  if os.path.isdir(label_path):\n",
        "    for file in os.listdir(label_path):\n",
        "      try:\n",
        "        img_path = os.path.join(label_path, file)\n",
        "        img = cv2.imread(img_path)\n",
        "        if img is None or not file.endswith((\".jpg\", \".jpeg\", \".png\")):\n",
        "            continue\n",
        "        img = cv2.resize(img, (IMG_SIZE, IMG_SIZE))\n",
        "        img = img / 255.0\n",
        "\n",
        "        animal_images.append(img)\n",
        "        animal_labels.append(label)\n",
        "\n",
        "      except Exception as e:\n",
        "        print(f\"Skipping {file}: {e}\")"
      ],
      "metadata": {
        "id": "0d-K0S3s1D8x"
      },
      "execution_count": 24,
      "outputs": []
    }
  ],
  "metadata": {
    "colab": {
      "provenance": [],
      "gpuType": "V28"
    },
    "kernelspec": {
      "display_name": "Python 3",
      "name": "python3"
    },
    "accelerator": "TPU"
  },
  "nbformat": 4,
  "nbformat_minor": 0
}